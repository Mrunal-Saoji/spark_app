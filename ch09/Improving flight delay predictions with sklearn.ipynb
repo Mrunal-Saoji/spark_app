{
 "cells": [
  {
   "cell_type": "markdown",
   "metadata": {},
   "source": [
    "## Improving Predictions with `scikit-learn`\n",
    "\n",
    "In this chapter we will try the same regression as chapter 8, but this time without departure delay; a harder problem."
   ]
  },
  {
   "cell_type": "code",
   "execution_count": 1,
   "metadata": {},
   "outputs": [
    {
     "name": "stdout",
     "output_type": "stream",
     "text": [
      "Imports loaded...\n"
     ]
    }
   ],
   "source": [
    "import sys, os, re\n",
    "sys.path.append(\"lib\")\n",
    "import utils\n",
    "\n",
    "import numpy as np\n",
    "import sklearn\n",
    "import iso8601\n",
    "import datetime\n",
    "print(\"Imports loaded...\")"
   ]
  },
  {
   "cell_type": "code",
   "execution_count": 2,
   "metadata": {},
   "outputs": [
    {
     "name": "stdout",
     "output_type": "stream",
     "text": [
      "Original JSON file size: 45,056 Bytes\n",
      "Training items: 457,013\n",
      "Data loaded...\n"
     ]
    }
   ],
   "source": [
    "# Load and check the size of our training data. May take a minute.\n",
    "print(\"Original JSON file size: {:,} Bytes\".format(os.path.getsize(\"../data/simple_flight_delay_features.jsonl\")))\n",
    "training_data = utils.read_json_lines_file('../data/simple_flight_delay_features.jsonl')\n",
    "print(\"Training items: {:,}\".format(len(training_data))) # 457,013\n",
    "print(\"Data loaded...\")"
   ]
  },
  {
   "cell_type": "code",
   "execution_count": 3,
   "metadata": {},
   "outputs": [
    {
     "name": "stdout",
     "output_type": "stream",
     "text": [
      "Size of training data in RAM: 4,018,008 Bytes\n",
      "{'ArrDelay': 4.0, 'CRSArrTime': '2015-01-19T14:54:00.000Z', 'CRSDepTime': '2015-01-19T12:40:00.000Z', 'Carrier': 'US', 'DayOfMonth': 19, 'DayOfWeek': 1, 'DayOfYear': 19, 'DepDelay': -1.0, 'Dest': 'PHX', 'Distance': 338.0, 'FlightDate': '2015-01-19T00:00:00.000Z', 'FlightNum': '1712', 'Origin': 'SNA'}\n"
     ]
    }
   ],
   "source": [
    "# Inspect a record before we alter them\n",
    "print(\"Size of training data in RAM: {:,} Bytes\".format(sys.getsizeof(training_data))) # 4MB\n",
    "print(training_data[0])"
   ]
  },
  {
   "cell_type": "code",
   "execution_count": 4,
   "metadata": {},
   "outputs": [],
   "source": [
    "# # We need to sample our data to fit into RAM\n",
    "# training_data = np.random.choice(training_data, 1000000) # 'Sample down to 1MM examples'\n",
    "# print(\"Sampled items: {:,} Bytes\".format(len(training_data)))\n",
    "# print(\"Data sampled...\")"
   ]
  },
  {
   "cell_type": "code",
   "execution_count": 5,
   "metadata": {},
   "outputs": [
    {
     "name": "stdout",
     "output_type": "stream",
     "text": [
      "Results vectorized size: 3,656,200\n",
      "Results vectorized...\n"
     ]
    }
   ],
   "source": [
    "# Separate our results from the rest of the data, vectorize and size up\n",
    "results = [record['ArrDelay'] for record in training_data]\n",
    "results_vector = np.array(results)\n",
    "print(\"Results vectorized size: {:,}\".format(sys.getsizeof(results_vector))) # 3,656,200 bytes\n",
    "print(\"Results vectorized...\")"
   ]
  },
  {
   "cell_type": "code",
   "execution_count": 6,
   "metadata": {},
   "outputs": [
    {
     "name": "stdout",
     "output_type": "stream",
     "text": [
      "ArrDelay, DepDelay and FlightDate removed from training data...\n"
     ]
    }
   ],
   "source": [
    "# Remove the two delay fields and the flight date from our training data\n",
    "for item in training_data:\n",
    "  item.pop('ArrDelay', None)\n",
    "  item.pop('FlightDate', None)\n",
    "  item.pop('DepDelay', None)\n",
    "print(\"ArrDelay, DepDelay and FlightDate removed from training data...\")"
   ]
  },
  {
   "cell_type": "code",
   "execution_count": 7,
   "metadata": {},
   "outputs": [
    {
     "name": "stdout",
     "output_type": "stream",
     "text": [
      "CRSArr/DepTime converted to unix time...\n"
     ]
    }
   ],
   "source": [
    "# Must convert datetime strings to unix times\n",
    "for item in training_data:\n",
    "  if isinstance(item['CRSArrTime'], str):\n",
    "    dt = iso8601.parse_date(item['CRSArrTime'])\n",
    "    unix_time = int(dt.timestamp())\n",
    "    item['CRSArrTime'] = unix_time\n",
    "  if isinstance(item['CRSDepTime'], str):\n",
    "    dt = iso8601.parse_date(item['CRSDepTime'])\n",
    "    unix_time = int(dt.timestamp())\n",
    "    item['CRSDepTime'] = unix_time\n",
    "print(\"CRSArr/DepTime converted to unix time...\")"
   ]
  },
  {
   "cell_type": "code",
   "execution_count": 17,
   "metadata": {},
   "outputs": [
    {
     "name": "stdout",
     "output_type": "stream",
     "text": [
      "Sampled dimensions: [457,013]\n",
      "Size of DictVectorized vectors: 36,561,040 Bytes\n",
      "  (0, 0)\t1421679240.0\n",
      "  (0, 1)\t1421671200.0\n",
      "  (0, 13)\t1.0\n",
      "  (0, 16)\t19.0\n",
      "  (0, 17)\t1.0\n",
      "  (0, 18)\t19.0\n",
      "  (0, 249)\t1.0\n",
      "  (0, 331)\t338.0\n",
      "  (0, 1122)\t1.0\n",
      "  (0, 6946)\t1.0\n",
      "  (1, 0)\t1421669640.0\n",
      "  (1, 1)\t1421661600.0\n",
      "  (1, 13)\t1.0\n",
      "  (1, 16)\t19.0\n",
      "  (1, 17)\t1.0\n",
      "  (1, 18)\t19.0\n",
      "  (1, 249)\t1.0\n",
      "  (1, 331)\t338.0\n",
      "  (1, 4727)\t1.0\n",
      "  (1, 6946)\t1.0\n",
      "  (2, 0)\t1421703900.0\n",
      "  (2, 1)\t1421695800.0\n",
      "  (2, 13)\t1.0\n",
      "  (2, 16)\t19.0\n",
      "  (2, 17)\t1.0\n",
      "  :\t:\n",
      "  (457010, 18)\t11.0\n",
      "  (457010, 287)\t1.0\n",
      "  (457010, 331)\t987.0\n",
      "  (457010, 5237)\t1.0\n",
      "  (457010, 6907)\t1.0\n",
      "  (457011, 0)\t1420965000.0\n",
      "  (457011, 1)\t1420959600.0\n",
      "  (457011, 3)\t1.0\n",
      "  (457011, 16)\t11.0\n",
      "  (457011, 17)\t7.0\n",
      "  (457011, 18)\t11.0\n",
      "  (457011, 288)\t1.0\n",
      "  (457011, 331)\t421.0\n",
      "  (457011, 2657)\t1.0\n",
      "  (457011, 6907)\t1.0\n",
      "  (457012, 0)\t1421002200.0\n",
      "  (457012, 1)\t1420996800.0\n",
      "  (457012, 3)\t1.0\n",
      "  (457012, 16)\t11.0\n",
      "  (457012, 17)\t7.0\n",
      "  (457012, 18)\t11.0\n",
      "  (457012, 288)\t1.0\n",
      "  (457012, 331)\t421.0\n",
      "  (457012, 2983)\t1.0\n",
      "  (457012, 6907)\t1.0\n",
      "Training data vectorized...\n"
     ]
    }
   ],
   "source": [
    "# Use DictVectorizer to convert feature dicts to vectors\n",
    "from sklearn.feature_extraction import DictVectorizer\n",
    "\n",
    "print(\"Sampled dimensions: [{:,}]\".format(len(training_data)))\n",
    "vectorizer = DictVectorizer()\n",
    "training_vectors = vectorizer.fit_transform(training_data)\n",
    "print(\"Size of DictVectorized vectors: {:,} Bytes\".format(training_vectors.data.nbytes))\n",
    "print(training_vectors)\n",
    "print(\"Training data vectorized...\")"
   ]
  },
  {
   "cell_type": "code",
   "execution_count": 9,
   "metadata": {},
   "outputs": [
    {
     "name": "stdout",
     "output_type": "stream",
     "text": [
      "(411311, 6978) (45702, 6978)\n",
      "(411311,) (45702,)\n",
      "Test train split performed again...\n"
     ]
    }
   ],
   "source": [
    "from sklearn.model_selection import train_test_split\n",
    "# Redo test/train split\n",
    "X_train, X_test, y_train, y_test = train_test_split(\n",
    "  training_vectors,\n",
    "  results_vector,\n",
    "  test_size=0.1,\n",
    "  random_state=17\n",
    ")\n",
    "print(X_train.shape, X_test.shape)\n",
    "print(y_train.shape, y_test.shape)\n",
    "print(\"Test train split performed again...\")"
   ]
  },
  {
   "cell_type": "code",
   "execution_count": 10,
   "metadata": {},
   "outputs": [
    {
     "name": "stdout",
     "output_type": "stream",
     "text": [
      "Gradient boosting regressor instantiated...!\n"
     ]
    }
   ],
   "source": [
    "from sklearn.ensemble import GradientBoostingRegressor\n",
    "\n",
    "regressor = GradientBoostingRegressor()\n",
    "print(\"Gradient boosting regressor instantiated...!\")"
   ]
  },
  {
   "cell_type": "code",
   "execution_count": 11,
   "metadata": {},
   "outputs": [
    {
     "name": "stdout",
     "output_type": "stream",
     "text": [
      "Regressor fitted again...\n"
     ]
    }
   ],
   "source": [
    "# Refit regression on new training data\n",
    "regressor.fit(X_train, y_train)\n",
    "print(\"Regressor fitted again...\")"
   ]
  },
  {
   "cell_type": "code",
   "execution_count": 12,
   "metadata": {},
   "outputs": [
    {
     "name": "stdout",
     "output_type": "stream",
     "text": [
      "Predictions made for X_test again...\n"
     ]
    }
   ],
   "source": [
    "# Predict using the test data again\n",
    "predicted = regressor.predict(X_test.toarray())\n",
    "print(\"Predictions made for X_test again...\")"
   ]
  },
  {
   "cell_type": "code",
   "execution_count": 13,
   "metadata": {},
   "outputs": [
    {
     "name": "stdout",
     "output_type": "stream",
     "text": [
      "Median absolute error:    13.6\n",
      "r2 score:                 0.116\n"
     ]
    }
   ],
   "source": [
    "from sklearn.metrics import median_absolute_error, r2_score\n",
    "\n",
    "# Get the median absolute error again\n",
    "medae = median_absolute_error(y_test, predicted)\n",
    "print(\"Median absolute error:    {:.3g}\".format(medae))\n",
    "\n",
    "# Get the r2 score gain\n",
    "r2 = r2_score(y_test, predicted)\n",
    "print(\"r2 score:                 {:.3g}\".format(r2))"
   ]
  },
  {
   "cell_type": "code",
   "execution_count": 14,
   "metadata": {},
   "outputs": [
    {
     "data": {
      "text/plain": [
       "<Figure size 640x480 with 1 Axes>"
      ]
     },
     "metadata": {},
     "output_type": "display_data"
    }
   ],
   "source": [
    "# Plot outputs, compare actual vs predicted values\n",
    "import matplotlib.pyplot as plt\n",
    "\n",
    "plt.scatter(\n",
    "  y_test,\n",
    "  predicted,\n",
    "  color='blue',\n",
    "  linewidth=1\n",
    ")\n",
    "\n",
    "plt.xticks(())\n",
    "plt.yticks(())\n",
    "\n",
    "plt.show()"
   ]
  },
  {
   "cell_type": "code",
   "execution_count": 15,
   "metadata": {},
   "outputs": [
    {
     "data": {
      "image/png": "[encoded data removed]",
      "text/plain": [
       "<Figure size 640x480 with 1 Axes>"
      ]
     },
     "metadata": {},
     "output_type": "display_data"
    }
   ],
   "source": [
    "%matplotlib inline\n",
    "\n",
    "# Plot outputs\n",
    "import matplotlib.pyplot as plt\n",
    "\n",
    "# Cleans up the appearance\n",
    "plt.rcdefaults()\n",
    "\n",
    "plt.scatter(\n",
    "  y_test,\n",
    "  predicted,\n",
    "  color='blue',\n",
    "  linewidth=1\n",
    ")\n",
    "plt.grid(True)\n",
    "\n",
    "plt.xticks()\n",
    "plt.yticks()\n",
    "\n",
    "plt.show()"
   ]
  },
  {
   "cell_type": "code",
   "execution_count": null,
   "metadata": {},
   "outputs": [],
   "source": []
  }
 ],
 "metadata": {
  "anaconda-cloud": {},
  "kernelspec": {
   "display_name": "Python 3",
   "language": "python",
   "name": "python3"
  },
  "language_info": {
   "codemirror_mode": {
    "name": "ipython",
    "version": 3
   },
   "file_extension": ".py",
   "mimetype": "text/x-python",
   "name": "python",
   "nbconvert_exporter": "python",
   "pygments_lexer": "ipython3",
   "version": "3.6.8"
  }
 },
 "nbformat": 4,
 "nbformat_minor": 1
}
